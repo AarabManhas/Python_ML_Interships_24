{
 "cells": [
  {
   "cell_type": "code",
   "execution_count": 2,
   "id": "b0248355-2add-4e51-85da-5b3e1e309b71",
   "metadata": {},
   "outputs": [
    {
     "name": "stdout",
     "output_type": "stream",
     "text": [
      "*\n",
      "**\n",
      "***\n",
      "****\n",
      "*****\n"
     ]
    }
   ],
   "source": [
    "def star(rows):\n",
    "    for i in range(1, rows + 1):\n",
    "        print('*' * i)\n",
    "star(5)\n"
   ]
  },
  {
   "cell_type": "code",
   "execution_count": 15,
   "id": "b43ed238-cee9-4150-a5c2-925e201d2d42",
   "metadata": {},
   "outputs": [
    {
     "name": "stdin",
     "output_type": "stream",
     "text": [
      "Enter the first number:  44\n",
      "Enter the second number:  0\n"
     ]
    },
    {
     "name": "stdout",
     "output_type": "stream",
     "text": [
      "Error: Division by zero is not allowed. Please enter a non-zero second number.\n"
     ]
    },
    {
     "name": "stdin",
     "output_type": "stream",
     "text": [
      "Enter the first number:  44\n",
      "Enter the second number:  22\n"
     ]
    },
    {
     "name": "stdout",
     "output_type": "stream",
     "text": [
      "The result of dividing 44.0 by 22.0 is 2.0\n"
     ]
    }
   ],
   "source": [
    "def get_number(prompt):\n",
    "    while True:\n",
    "        try:\n",
    "            return float(input(prompt))\n",
    "        except ValueError:\n",
    "            print(\"Invalid input. Please enter a valid number.\")\n",
    "\n",
    "def divide_numbers():\n",
    "    while True:\n",
    "        A = get_number(\"Enter the first number: \")\n",
    "        B = get_number(\"Enter the second number: \")\n",
    "\n",
    "        if B == 0:\n",
    "            print(\"Error: Division by zero is not allowed. Please enter a non-zero second number.\")\n",
    "        else:\n",
    "            result = A / B\n",
    "            print(f\"The result of dividing {A} by {B} is {result}\")\n",
    "            break\n",
    "\n",
    "if __name__ == \"__main__\":\n",
    "    divide_numbers()\n"
   ]
  },
  {
   "cell_type": "code",
   "execution_count": null,
   "id": "32bb3b98-423a-406a-af0e-bf26b132dd58",
   "metadata": {},
   "outputs": [],
   "source": []
  }
 ],
 "metadata": {
  "kernelspec": {
   "display_name": "Python 3 (ipykernel)",
   "language": "python",
   "name": "python3"
  },
  "language_info": {
   "codemirror_mode": {
    "name": "ipython",
    "version": 3
   },
   "file_extension": ".py",
   "mimetype": "text/x-python",
   "name": "python",
   "nbconvert_exporter": "python",
   "pygments_lexer": "ipython3",
   "version": "3.12.4"
  }
 },
 "nbformat": 4,
 "nbformat_minor": 5
}
