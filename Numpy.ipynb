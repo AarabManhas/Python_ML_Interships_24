{
 "cells": [
  {
   "cell_type": "code",
   "execution_count": 1,
   "id": "fe366c5e-2c7e-4362-8a18-0cd3eb81152e",
   "metadata": {},
   "outputs": [],
   "source": [
    "import numpy as np"
   ]
  },
  {
   "cell_type": "code",
   "execution_count": 2,
   "id": "bf50d9d8-539b-4152-bb0b-b293b42511dc",
   "metadata": {},
   "outputs": [],
   "source": [
    "Z = np.zeros(7)"
   ]
  },
  {
   "cell_type": "code",
   "execution_count": 4,
   "id": "9959b5a6-f704-47e6-b031-3373b1275a96",
   "metadata": {},
   "outputs": [
    {
     "data": {
      "text/plain": [
       "array([0., 0., 0., 0., 0., 0., 0.])"
      ]
     },
     "execution_count": 4,
     "metadata": {},
     "output_type": "execute_result"
    }
   ],
   "source": [
    "Z"
   ]
  },
  {
   "cell_type": "code",
   "execution_count": 5,
   "id": "6c1e31a7-f7d0-4afc-8ea5-efc5ddd6a6e3",
   "metadata": {},
   "outputs": [
    {
     "data": {
      "text/plain": [
       "array([1, 2, 3])"
      ]
     },
     "execution_count": 5,
     "metadata": {},
     "output_type": "execute_result"
    }
   ],
   "source": [
    "ar=np.array([1,2,3])\n",
    "ar"
   ]
  },
  {
   "cell_type": "code",
   "execution_count": 6,
   "id": "d220d71f-8c03-4bcb-9f33-e4405b5722d4",
   "metadata": {},
   "outputs": [
    {
     "data": {
      "text/plain": [
       "array([0.47758168, 0.68332543, 0.59621913, 0.49646718])"
      ]
     },
     "execution_count": 6,
     "metadata": {},
     "output_type": "execute_result"
    }
   ],
   "source": [
    "ran=np.random.rand(4)\n",
    "ran"
   ]
  },
  {
   "cell_type": "code",
   "execution_count": 7,
   "id": "552d83aa-0949-47bf-9005-c8de12ab143e",
   "metadata": {},
   "outputs": [
    {
     "data": {
      "text/plain": [
       "array([  0.        ,  11.11111111,  22.22222222,  33.33333333,\n",
       "        44.44444444,  55.55555556,  66.66666667,  77.77777778,\n",
       "        88.88888889, 100.        ])"
      ]
     },
     "execution_count": 7,
     "metadata": {},
     "output_type": "execute_result"
    }
   ],
   "source": [
    "ln=np.linspace(0,100,10)\n",
    "ln"
   ]
  },
  {
   "cell_type": "code",
   "execution_count": 8,
   "id": "510ea4f4-9848-4ba5-b52c-e1baba52b05f",
   "metadata": {},
   "outputs": [
    {
     "data": {
      "text/plain": [
       "array([[1, 2, 3],\n",
       "       [4, 5, 6]])"
      ]
     },
     "execution_count": 8,
     "metadata": {},
     "output_type": "execute_result"
    }
   ],
   "source": [
    "arr2=np.array([[1,2,3],[4,5,6]])\n",
    "arr2"
   ]
  },
  {
   "cell_type": "code",
   "execution_count": 9,
   "id": "db2baef4-1df6-4044-afd2-908c147a8457",
   "metadata": {},
   "outputs": [],
   "source": [
    "arr2 = np.array([1,2,3,4,5], dtype=np.int16)"
   ]
  },
  {
   "cell_type": "code",
   "execution_count": 10,
   "id": "276d635f-6199-4226-b739-d81241518bab",
   "metadata": {},
   "outputs": [
    {
     "data": {
      "text/plain": [
       "array([1, 2, 3, 4, 5], dtype=int16)"
      ]
     },
     "execution_count": 10,
     "metadata": {},
     "output_type": "execute_result"
    }
   ],
   "source": [
    "arr2"
   ]
  },
  {
   "cell_type": "code",
   "execution_count": 11,
   "id": "9fa613f3-295c-40f9-ae25-6acbaea0b0eb",
   "metadata": {},
   "outputs": [
    {
     "data": {
      "text/plain": [
       "array([[1, 2, 3],\n",
       "       [4, 5, 6]])"
      ]
     },
     "execution_count": 11,
     "metadata": {},
     "output_type": "execute_result"
    }
   ],
   "source": [
    "ar2=np.array([[1,2,3],[4,5,6]])\n",
    "ar2"
   ]
  },
  {
   "cell_type": "code",
   "execution_count": 12,
   "id": "a0f8dbe7-7684-4058-a2c9-ad83c8454e28",
   "metadata": {},
   "outputs": [
    {
     "data": {
      "text/plain": [
       "array([[0., 0., 0., 0., 0.],\n",
       "       [0., 0., 0., 0., 0.],\n",
       "       [0., 0., 0., 0., 0.],\n",
       "       [0., 0., 0., 0., 0.],\n",
       "       [0., 0., 0., 0., 0.]])"
      ]
     },
     "execution_count": 12,
     "metadata": {},
     "output_type": "execute_result"
    }
   ],
   "source": [
    "z1=np.zeros((5,5))\n",
    "z1"
   ]
  },
  {
   "cell_type": "code",
   "execution_count": 13,
   "id": "07078449-b90a-4a99-a728-dee4853ddd1e",
   "metadata": {},
   "outputs": [
    {
     "data": {
      "text/plain": [
       "array([[0., 0., 0., 0., 0.],\n",
       "       [0., 0., 0., 0., 0.],\n",
       "       [0., 0., 0., 0., 0.],\n",
       "       [0., 0., 0., 0., 0.],\n",
       "       [0., 0., 0., 0., 0.]])"
      ]
     },
     "execution_count": 13,
     "metadata": {},
     "output_type": "execute_result"
    }
   ],
   "source": [
    "o1=np.ones((5,5))\n",
    "z1"
   ]
  },
  {
   "cell_type": "code",
   "execution_count": 14,
   "id": "2ac86b0b-3ef0-4046-a104-5dab4231c1c2",
   "metadata": {},
   "outputs": [
    {
     "data": {
      "text/plain": [
       "array([[1., 0., 0., 0., 0.],\n",
       "       [0., 1., 0., 0., 0.],\n",
       "       [0., 0., 1., 0., 0.],\n",
       "       [0., 0., 0., 1., 0.],\n",
       "       [0., 0., 0., 0., 1.]])"
      ]
     },
     "execution_count": 14,
     "metadata": {},
     "output_type": "execute_result"
    }
   ],
   "source": [
    "I=np.eye(5)\n",
    "I"
   ]
  },
  {
   "cell_type": "code",
   "execution_count": 15,
   "id": "3174797b-7f23-4e2b-b90b-5a3a0d7a9ab9",
   "metadata": {},
   "outputs": [
    {
     "data": {
      "text/plain": [
       "array([[0.04384005, 0.02364111, 0.52234089, 0.21454208, 0.69273235],\n",
       "       [0.15350245, 0.84839735, 0.22291557, 0.89051514, 0.80781612],\n",
       "       [0.87755687, 0.73575213, 0.10965749, 0.32824247, 0.98682987],\n",
       "       [0.27425999, 0.37998691, 0.4542121 , 0.33925171, 0.93412927]])"
      ]
     },
     "execution_count": 15,
     "metadata": {},
     "output_type": "execute_result"
    }
   ],
   "source": [
    "r1=np.random.rand(4,5)\n",
    "r1"
   ]
  },
  {
   "cell_type": "code",
   "execution_count": 16,
   "id": "f124e8b4-9d46-4554-8127-b2435c91fd22",
   "metadata": {},
   "outputs": [
    {
     "name": "stdout",
     "output_type": "stream",
     "text": [
      "9\n"
     ]
    }
   ],
   "source": [
    "import numpy as np # Import the NumPy library and give it the alias 'np'\n",
    "\n",
    "ar = np.array([0,1,2,3,4,5,6,7,8,9]) # Use np.array to create NumPy arrays\n",
    "ar2 = np.array([[1, 2, 3],\n",
    "       [4, 5, 6],\n",
    "       [7, 8, 9]])\n",
    "print(ar2.size)"
   ]
  },
  {
   "cell_type": "code",
   "execution_count": 17,
   "id": "ed96aabd-de0a-4923-ba2d-bd43afd061b8",
   "metadata": {},
   "outputs": [
    {
     "name": "stdout",
     "output_type": "stream",
     "text": [
      "(3, 3)\n"
     ]
    }
   ],
   "source": [
    "print(ar2.shape)"
   ]
  },
  {
   "cell_type": "code",
   "execution_count": 18,
   "id": "4a740eef-3170-4676-b018-6abd7c4e4f62",
   "metadata": {},
   "outputs": [
    {
     "data": {
      "text/plain": [
       "array([[1, 2, 3],\n",
       "       [4, 5, 6],\n",
       "       [7, 8, 9]])"
      ]
     },
     "execution_count": 18,
     "metadata": {},
     "output_type": "execute_result"
    }
   ],
   "source": [
    "ar3=np.copy(ar2)\n",
    "ar3"
   ]
  },
  {
   "cell_type": "code",
   "execution_count": 19,
   "id": "bae7049e-2a4d-42b2-bbea-5fae4747e234",
   "metadata": {},
   "outputs": [
    {
     "data": {
      "text/plain": [
       "array([[ 1, 15,  3],\n",
       "       [ 4,  5, 12],\n",
       "       [ 7,  8,  9]])"
      ]
     },
     "execution_count": 19,
     "metadata": {},
     "output_type": "execute_result"
    }
   ],
   "source": [
    "ar3[1,2]=12\n",
    "ar3[0,1]=15\n",
    "ar3"
   ]
  },
  {
   "cell_type": "code",
   "execution_count": 20,
   "id": "3486065c-31b8-47c8-9856-db834590fdc6",
   "metadata": {},
   "outputs": [
    {
     "data": {
      "text/plain": [
       "array([[ 1,  3, 15],\n",
       "       [ 4,  5, 12],\n",
       "       [ 7,  8,  9]])"
      ]
     },
     "execution_count": 20,
     "metadata": {},
     "output_type": "execute_result"
    }
   ],
   "source": [
    "ar3=np.sort(ar3)\n",
    "ar3"
   ]
  },
  {
   "cell_type": "code",
   "execution_count": 21,
   "id": "cb8afec7-a0a9-450b-953e-84a0ed7a9d95",
   "metadata": {},
   "outputs": [
    {
     "data": {
      "text/plain": [
       "array([[ 1,  3,  9],\n",
       "       [ 4,  5, 12],\n",
       "       [ 7,  8, 15]])"
      ]
     },
     "execution_count": 21,
     "metadata": {},
     "output_type": "execute_result"
    }
   ],
   "source": [
    "ar3=np.sort(ar3,axis=0)\n",
    "ar3"
   ]
  },
  {
   "cell_type": "code",
   "execution_count": 22,
   "id": "37b77417-3039-449d-a5e5-75f4712c3b2c",
   "metadata": {},
   "outputs": [
    {
     "data": {
      "text/plain": [
       "np.int64(64)"
      ]
     },
     "execution_count": 22,
     "metadata": {},
     "output_type": "execute_result"
    }
   ],
   "source": [
    "ar3.sum()"
   ]
  },
  {
   "cell_type": "code",
   "execution_count": 23,
   "id": "7d4dbbcd-b504-4db3-82a3-0028679540bd",
   "metadata": {},
   "outputs": [
    {
     "data": {
      "text/plain": [
       "array([12, 16, 36])"
      ]
     },
     "execution_count": 23,
     "metadata": {},
     "output_type": "execute_result"
    }
   ],
   "source": [
    "ar3.sum(axis=0)"
   ]
  },
  {
   "cell_type": "code",
   "execution_count": 24,
   "id": "64799957-bc10-43f0-bd1a-43efa260a097",
   "metadata": {},
   "outputs": [],
   "source": [
    "ar4=np.random.rand(99)"
   ]
  },
  {
   "cell_type": "code",
   "execution_count": 26,
   "id": "121cf273-5c6b-4dc3-8787-d745842e1151",
   "metadata": {},
   "outputs": [
    {
     "data": {
      "text/plain": [
       "99"
      ]
     },
     "execution_count": 26,
     "metadata": {},
     "output_type": "execute_result"
    }
   ],
   "source": [
    "ar4.size"
   ]
  },
  {
   "cell_type": "code",
   "execution_count": 27,
   "id": "191e0072-8cc9-449c-96d7-c0ca6f13d59e",
   "metadata": {},
   "outputs": [],
   "source": [
    "ar4=ar4.reshape(11,9)"
   ]
  },
  {
   "cell_type": "code",
   "execution_count": 28,
   "id": "9d4ac0d6-83e5-45b2-9971-a42e8e8dbcd7",
   "metadata": {},
   "outputs": [
    {
     "data": {
      "text/plain": [
       "(11, 9)"
      ]
     },
     "execution_count": 28,
     "metadata": {},
     "output_type": "execute_result"
    }
   ],
   "source": [
    "ar4.shape"
   ]
  },
  {
   "cell_type": "code",
   "execution_count": 29,
   "id": "84270163-3e4a-45c9-8213-e2f8cfd5789f",
   "metadata": {},
   "outputs": [
    {
     "data": {
      "text/plain": [
       "array([[ 1,  4,  7],\n",
       "       [ 3,  5,  8],\n",
       "       [ 9, 12, 15]])"
      ]
     },
     "execution_count": 29,
     "metadata": {},
     "output_type": "execute_result"
    }
   ],
   "source": [
    "ar3=ar3.T\n",
    "ar3"
   ]
  },
  {
   "cell_type": "code",
   "execution_count": 30,
   "id": "7bf764c5-9ade-4650-856f-50ee14b0a625",
   "metadata": {},
   "outputs": [
    {
     "data": {
      "text/plain": [
       "array([0, 1, 2, 3, 4, 5, 6, 7, 8, 9])"
      ]
     },
     "execution_count": 30,
     "metadata": {},
     "output_type": "execute_result"
    }
   ],
   "source": [
    "ar"
   ]
  },
  {
   "cell_type": "code",
   "execution_count": 31,
   "id": "f2c09917-aabb-4cc6-82ef-a0c2c0db159f",
   "metadata": {},
   "outputs": [
    {
     "data": {
      "text/plain": [
       "array([ 0,  1,  2,  3,  4,  5,  6,  7,  8,  9, 10])"
      ]
     },
     "execution_count": 31,
     "metadata": {},
     "output_type": "execute_result"
    }
   ],
   "source": [
    "np.append(ar,10)"
   ]
  },
  {
   "cell_type": "code",
   "execution_count": 32,
   "id": "bbc4c2db-8015-47b2-9261-e3a7a95bd80e",
   "metadata": {},
   "outputs": [],
   "source": [
    "ar=np.delete(ar,6,axis=0)"
   ]
  },
  {
   "cell_type": "code",
   "execution_count": 33,
   "id": "23aecabf-82b8-426c-9073-0d0cb6105e75",
   "metadata": {},
   "outputs": [
    {
     "data": {
      "text/plain": [
       "array([0, 1, 2, 3, 4, 5, 7, 8, 9])"
      ]
     },
     "execution_count": 33,
     "metadata": {},
     "output_type": "execute_result"
    }
   ],
   "source": [
    "ar"
   ]
  },
  {
   "cell_type": "code",
   "execution_count": 34,
   "id": "bc0b1e5b-3eb8-41d1-aa02-ab8400873c62",
   "metadata": {},
   "outputs": [],
   "source": [
    "ar=np.insert(ar,6,6)"
   ]
  },
  {
   "cell_type": "code",
   "execution_count": 35,
   "id": "8e7aecd4-5d5d-4376-a399-ceaaef3efee2",
   "metadata": {},
   "outputs": [
    {
     "data": {
      "text/plain": [
       "array([0, 1, 2, 3, 4, 5, 6, 7, 8, 9])"
      ]
     },
     "execution_count": 35,
     "metadata": {},
     "output_type": "execute_result"
    }
   ],
   "source": [
    "ar"
   ]
  },
  {
   "cell_type": "code",
   "execution_count": 36,
   "id": "eff1c6a6-db76-4436-9aa3-d75cc16e9a6a",
   "metadata": {},
   "outputs": [
    {
     "data": {
      "text/plain": [
       "array([[1, 2, 3],\n",
       "       [4, 5, 6],\n",
       "       [7, 8, 9]])"
      ]
     },
     "execution_count": 36,
     "metadata": {},
     "output_type": "execute_result"
    }
   ],
   "source": [
    "ar2"
   ]
  },
  {
   "cell_type": "code",
   "execution_count": 37,
   "id": "f96b3f01-cad1-46e2-a522-580d484b5d5e",
   "metadata": {},
   "outputs": [
    {
     "data": {
      "text/plain": [
       "array([[ 1,  4,  7],\n",
       "       [ 3,  5,  8],\n",
       "       [ 9, 12, 15]])"
      ]
     },
     "execution_count": 37,
     "metadata": {},
     "output_type": "execute_result"
    }
   ],
   "source": [
    "ar3"
   ]
  },
  {
   "cell_type": "code",
   "execution_count": 38,
   "id": "e3ebbff1-d349-46ff-8a13-e3567429fa68",
   "metadata": {},
   "outputs": [
    {
     "data": {
      "text/plain": [
       "array([[ 1,  2,  3],\n",
       "       [ 4,  5,  6],\n",
       "       [ 7,  8,  9],\n",
       "       [ 1,  4,  7],\n",
       "       [ 3,  5,  8],\n",
       "       [ 9, 12, 15]])"
      ]
     },
     "execution_count": 38,
     "metadata": {},
     "output_type": "execute_result"
    }
   ],
   "source": [
    "ar4=np.concatenate((ar2,ar3),axis=0)\n",
    "ar4"
   ]
  },
  {
   "cell_type": "code",
   "execution_count": 39,
   "id": "fa5a482a-0fa7-4105-ab96-c3b492006da0",
   "metadata": {},
   "outputs": [
    {
     "data": {
      "text/plain": [
       "array([[ 1,  2,  3,  1,  4,  7],\n",
       "       [ 4,  5,  6,  3,  5,  8],\n",
       "       [ 7,  8,  9,  9, 12, 15]])"
      ]
     },
     "execution_count": 39,
     "metadata": {},
     "output_type": "execute_result"
    }
   ],
   "source": [
    "ar5=np.concatenate((ar2,ar3),axis=1)\n",
    "ar5"
   ]
  },
  {
   "cell_type": "code",
   "execution_count": 40,
   "id": "bb4b789a-4e1c-4bf9-9cd2-3a54479ff9c9",
   "metadata": {},
   "outputs": [
    {
     "data": {
      "text/plain": [
       "[array([[1, 2, 3],\n",
       "        [4, 5, 6]]),\n",
       " array([[7, 8, 9],\n",
       "        [1, 4, 7]]),\n",
       " array([[ 3,  5,  8],\n",
       "        [ 9, 12, 15]])]"
      ]
     },
     "execution_count": 40,
     "metadata": {},
     "output_type": "execute_result"
    }
   ],
   "source": [
    "ar6=np.split(ar4,3)\n",
    "ar6"
   ]
  },
  {
   "cell_type": "code",
   "execution_count": 41,
   "id": "391175ef-ec1c-47ad-9d68-9eaaeb56f0de",
   "metadata": {},
   "outputs": [
    {
     "data": {
      "text/plain": [
       "array([[1, 2, 3],\n",
       "       [4, 5, 6]])"
      ]
     },
     "execution_count": 41,
     "metadata": {},
     "output_type": "execute_result"
    }
   ],
   "source": [
    "ar6[0]"
   ]
  },
  {
   "cell_type": "code",
   "execution_count": 42,
   "id": "3808f11a-0d7b-445c-b1e5-32f9434188e5",
   "metadata": {},
   "outputs": [
    {
     "data": {
      "text/plain": [
       "array([[7, 8, 9],\n",
       "       [1, 4, 7]])"
      ]
     },
     "execution_count": 42,
     "metadata": {},
     "output_type": "execute_result"
    }
   ],
   "source": [
    "ar6[1]"
   ]
  },
  {
   "cell_type": "code",
   "execution_count": 43,
   "id": "05ba11a0-08a6-425a-969a-3f6b550a7694",
   "metadata": {},
   "outputs": [
    {
     "data": {
      "text/plain": [
       "array([[ 3,  5,  8],\n",
       "       [ 9, 12, 15]])"
      ]
     },
     "execution_count": 43,
     "metadata": {},
     "output_type": "execute_result"
    }
   ],
   "source": [
    "ar6[2]"
   ]
  },
  {
   "cell_type": "code",
   "execution_count": 44,
   "id": "eebcd0b0-c129-4794-aac2-6ba321fda0ca",
   "metadata": {},
   "outputs": [
    {
     "data": {
      "text/plain": [
       "np.int64(1)"
      ]
     },
     "execution_count": 44,
     "metadata": {},
     "output_type": "execute_result"
    }
   ],
   "source": [
    "ar6[0][0][0]"
   ]
  },
  {
   "cell_type": "code",
   "execution_count": 45,
   "id": "53196501-a495-4ab4-af54-a16677175cd4",
   "metadata": {},
   "outputs": [
    {
     "data": {
      "text/plain": [
       "array([[ 2,  3,  4,  2,  5,  8],\n",
       "       [ 5,  6,  7,  4,  6,  9],\n",
       "       [ 8,  9, 10, 10, 13, 16]])"
      ]
     },
     "execution_count": 45,
     "metadata": {},
     "output_type": "execute_result"
    }
   ],
   "source": [
    "np.add(ar5,1)"
   ]
  },
  {
   "cell_type": "code",
   "execution_count": 46,
   "id": "00591e19-60c4-413f-b153-65827cf37957",
   "metadata": {},
   "outputs": [
    {
     "data": {
      "text/plain": [
       "array([[ 0,  1,  2,  0,  3,  6],\n",
       "       [ 3,  4,  5,  2,  4,  7],\n",
       "       [ 6,  7,  8,  8, 11, 14]])"
      ]
     },
     "execution_count": 46,
     "metadata": {},
     "output_type": "execute_result"
    }
   ],
   "source": [
    "np.subtract(ar5,1)"
   ]
  },
  {
   "cell_type": "code",
   "execution_count": 47,
   "id": "53d66386-f3e5-4dc1-8315-0c59061b7f20",
   "metadata": {},
   "outputs": [
    {
     "data": {
      "text/plain": [
       "array([[ 1,  2,  3,  1,  4,  7],\n",
       "       [ 4,  5,  6,  3,  5,  8],\n",
       "       [ 7,  8,  9,  9, 12, 15]])"
      ]
     },
     "execution_count": 47,
     "metadata": {},
     "output_type": "execute_result"
    }
   ],
   "source": [
    "np.multiply(ar5,1)"
   ]
  },
  {
   "cell_type": "code",
   "execution_count": 48,
   "id": "023236c6-f013-4d7b-a713-7f258a9aca34",
   "metadata": {},
   "outputs": [
    {
     "data": {
      "text/plain": [
       "array([[ 1,  2,  3,  1,  4,  7],\n",
       "       [ 4,  5,  6,  3,  5,  8],\n",
       "       [ 7,  8,  9,  9, 12, 15]])"
      ]
     },
     "execution_count": 48,
     "metadata": {},
     "output_type": "execute_result"
    }
   ],
   "source": [
    "np.power(ar5,1)"
   ]
  },
  {
   "cell_type": "code",
   "execution_count": 49,
   "id": "6d5faa62-a7a1-42cf-8cec-a67894871c4b",
   "metadata": {},
   "outputs": [
    {
     "data": {
      "text/plain": [
       "array([[  1,   4,   9,   1,  16,  49],\n",
       "       [ 16,  25,  36,   9,  25,  64],\n",
       "       [ 49,  64,  81,  81, 144, 225]])"
      ]
     },
     "execution_count": 49,
     "metadata": {},
     "output_type": "execute_result"
    }
   ],
   "source": [
    "np.power(ar5,2)"
   ]
  },
  {
   "cell_type": "code",
   "execution_count": 50,
   "id": "0d4de128-dde6-483f-a299-842213fd7da9",
   "metadata": {},
   "outputs": [
    {
     "name": "stdout",
     "output_type": "stream",
     "text": [
      "[[ 8 10 12]\n",
      " [ 5  9 13]]\n"
     ]
    }
   ],
   "source": [
    "ar7=np.add(ar6[0],ar6[1])\n",
    "print(ar7)"
   ]
  },
  {
   "cell_type": "code",
   "execution_count": 51,
   "id": "f65e264c-4552-4fde-a40c-0cea41e91927",
   "metadata": {},
   "outputs": [
    {
     "name": "stdout",
     "output_type": "stream",
     "text": [
      "[[ 7 16 27]\n",
      " [ 4 20 42]]\n"
     ]
    }
   ],
   "source": [
    "ar8=np.multiply(ar6[0],ar6[1])\n",
    "print(ar8)"
   ]
  },
  {
   "cell_type": "code",
   "execution_count": 52,
   "id": "ce79f73c-01ce-4592-bbd1-95e4ad50441f",
   "metadata": {},
   "outputs": [
    {
     "name": "stdout",
     "output_type": "stream",
     "text": [
      "[[0.14285714 0.25       0.33333333]\n",
      " [4.         1.25       0.85714286]]\n"
     ]
    }
   ],
   "source": [
    "ar9=np.divide(ar6[0],ar6[1])\n",
    "print(ar9)"
   ]
  },
  {
   "cell_type": "code",
   "execution_count": 53,
   "id": "e9b347f2-0bfa-469d-a633-acaa6aec6fde",
   "metadata": {},
   "outputs": [
    {
     "data": {
      "text/plain": [
       "array([[1., 1., 1.],\n",
       "       [4., 2., 1.]])"
      ]
     },
     "execution_count": 53,
     "metadata": {},
     "output_type": "execute_result"
    }
   ],
   "source": [
    "np.ceil(ar9)"
   ]
  },
  {
   "cell_type": "code",
   "execution_count": 54,
   "id": "49cbe271-0887-4e0b-a29f-e7f0ea799cfb",
   "metadata": {},
   "outputs": [
    {
     "data": {
      "text/plain": [
       "array([[0., 0., 0.],\n",
       "       [4., 1., 0.]])"
      ]
     },
     "execution_count": 54,
     "metadata": {},
     "output_type": "execute_result"
    }
   ],
   "source": [
    "np.floor(ar9)"
   ]
  },
  {
   "cell_type": "code",
   "execution_count": 55,
   "id": "7b6ed579-649a-4e39-8062-9c8e5a9d6043",
   "metadata": {},
   "outputs": [
    {
     "data": {
      "text/plain": [
       "array([[0., 0., 0.],\n",
       "       [4., 1., 1.]])"
      ]
     },
     "execution_count": 55,
     "metadata": {},
     "output_type": "execute_result"
    }
   ],
   "source": [
    "np.round(ar9)"
   ]
  },
  {
   "cell_type": "code",
   "execution_count": 56,
   "id": "7952e48a-362d-47b2-8c1c-9873ed1a165e",
   "metadata": {},
   "outputs": [
    {
     "data": {
      "text/plain": [
       "np.float64(6.055555555555555)"
      ]
     },
     "execution_count": 56,
     "metadata": {},
     "output_type": "execute_result"
    }
   ],
   "source": [
    "np.mean(ar5)"
   ]
  },
  {
   "cell_type": "code",
   "execution_count": 57,
   "id": "2f1e0fae-3abe-4746-abfc-cf10a005bd93",
   "metadata": {},
   "outputs": [
    {
     "data": {
      "text/plain": [
       "np.float64(5.5)"
      ]
     },
     "execution_count": 57,
     "metadata": {},
     "output_type": "execute_result"
    }
   ],
   "source": [
    "np.median(ar5)"
   ]
  },
  {
   "cell_type": "code",
   "execution_count": 58,
   "id": "dffe30b8-a896-49be-bef1-a5f99bb45e40",
   "metadata": {},
   "outputs": [
    {
     "data": {
      "text/plain": [
       "array([ 3.        ,  5.16666667, 10.        ])"
      ]
     },
     "execution_count": 58,
     "metadata": {},
     "output_type": "execute_result"
    }
   ],
   "source": [
    "np.mean(ar5,axis=1)"
   ]
  },
  {
   "cell_type": "code",
   "execution_count": 60,
   "id": "f96f6734-b08f-4df6-9268-284663a8fd4b",
   "metadata": {},
   "outputs": [
    {
     "data": {
      "text/plain": [
       "array([2.5, 5. , 9. ])"
      ]
     },
     "execution_count": 60,
     "metadata": {},
     "output_type": "execute_result"
    }
   ],
   "source": [
    "np.median(ar5,axis=1)"
   ]
  },
  {
   "cell_type": "code",
   "execution_count": 61,
   "id": "d795eb70-9583-4de2-b2dd-f5080c73dfc9",
   "metadata": {},
   "outputs": [
    {
     "data": {
      "text/plain": [
       "np.int64(1)"
      ]
     },
     "execution_count": 61,
     "metadata": {},
     "output_type": "execute_result"
    }
   ],
   "source": [
    "np.min(ar5)"
   ]
  },
  {
   "cell_type": "code",
   "execution_count": 62,
   "id": "c526a725-56cd-4db8-bad5-e65a7bb854c1",
   "metadata": {},
   "outputs": [
    {
     "data": {
      "text/plain": [
       "array([1, 2, 3, 1, 4, 7])"
      ]
     },
     "execution_count": 62,
     "metadata": {},
     "output_type": "execute_result"
    }
   ],
   "source": [
    "np.min(ar5,axis=0)"
   ]
  },
  {
   "cell_type": "code",
   "execution_count": 63,
   "id": "8326b7a4-d441-46e7-a579-ae51809bb684",
   "metadata": {},
   "outputs": [
    {
     "data": {
      "text/plain": [
       "array([ 7,  8,  9,  9, 12, 15])"
      ]
     },
     "execution_count": 63,
     "metadata": {},
     "output_type": "execute_result"
    }
   ],
   "source": [
    "np.max(ar5,axis=0)"
   ]
  },
  {
   "cell_type": "code",
   "execution_count": 68,
   "id": "6fb21fa9-78c6-437e-8346-7cb6f2a1c026",
   "metadata": {},
   "outputs": [
    {
     "data": {
      "text/plain": [
       "array([1, 2, 3, 4, 5, 6, 7, 8, 9])"
      ]
     },
     "execution_count": 68,
     "metadata": {},
     "output_type": "execute_result"
    }
   ],
   "source": [
    "ar10=np.array([1,2,3,4,5,6,7,8,9])\n",
    "ar10"
   ]
  },
  {
   "cell_type": "code",
   "execution_count": 69,
   "id": "da7acc8f-8b09-4961-8669-ad19f80134ae",
   "metadata": {},
   "outputs": [
    {
     "data": {
      "text/plain": [
       "np.int64(9)"
      ]
     },
     "execution_count": 69,
     "metadata": {},
     "output_type": "execute_result"
    }
   ],
   "source": [
    "np.argmax(ar)"
   ]
  },
  {
   "cell_type": "code",
   "execution_count": 70,
   "id": "3224c1f0-d946-47b1-ae16-8fd0bdb803bb",
   "metadata": {},
   "outputs": [
    {
     "data": {
      "text/plain": [
       "np.int64(0)"
      ]
     },
     "execution_count": 70,
     "metadata": {},
     "output_type": "execute_result"
    }
   ],
   "source": [
    "np.argmin(ar)"
   ]
  },
  {
   "cell_type": "code",
   "execution_count": 71,
   "id": "ad528835-f90f-47a5-babc-479d4db85a7f",
   "metadata": {},
   "outputs": [
    {
     "data": {
      "text/plain": [
       "array([0, 1, 2, 3, 4, 5, 6, 7, 8])"
      ]
     },
     "execution_count": 71,
     "metadata": {},
     "output_type": "execute_result"
    }
   ],
   "source": [
    "np.argsort(ar10)"
   ]
  },
  {
   "cell_type": "code",
   "execution_count": 72,
   "id": "d3b9d60c-e02e-4cfa-82b5-27fb774bda9d",
   "metadata": {},
   "outputs": [
    {
     "data": {
      "text/plain": [
       "array([ 0.84147098,  0.90929743,  0.14112001, -0.7568025 , -0.95892427,\n",
       "       -0.2794155 ,  0.6569866 ,  0.98935825,  0.41211849])"
      ]
     },
     "execution_count": 72,
     "metadata": {},
     "output_type": "execute_result"
    }
   ],
   "source": [
    "np.sin(ar10)"
   ]
  },
  {
   "cell_type": "code",
   "execution_count": 73,
   "id": "ffed86b5-22b2-4c4e-b910-5615bdd4b2c8",
   "metadata": {},
   "outputs": [
    {
     "data": {
      "text/plain": [
       "array([0.        , 0.69314718, 1.09861229, 1.38629436, 1.60943791,\n",
       "       1.79175947, 1.94591015, 2.07944154, 2.19722458])"
      ]
     },
     "execution_count": 73,
     "metadata": {},
     "output_type": "execute_result"
    }
   ],
   "source": [
    "np.log(ar10)"
   ]
  },
  {
   "cell_type": "code",
   "execution_count": 74,
   "id": "a50441a1-e57f-4191-8cbe-6e690c02e164",
   "metadata": {},
   "outputs": [],
   "source": [
    "ar11 = np.array([[85, 90, 78],\n",
    "       [92, 88, 95],\n",
    "       [76, 95, 85],\n",
    "       [76, 95, 85],\n",
    "       [90, 85, 92],\n",
    "       [88, 76, 89]])"
   ]
  },
  {
   "cell_type": "code",
   "execution_count": 75,
   "id": "a9678832-4a30-40a1-90ee-dab090620097",
   "metadata": {},
   "outputs": [
    {
     "data": {
      "text/plain": [
       "np.float64(86.66666666666667)"
      ]
     },
     "execution_count": 75,
     "metadata": {},
     "output_type": "execute_result"
    }
   ],
   "source": [
    "np.mean(ar11)"
   ]
  },
  {
   "cell_type": "code",
   "execution_count": 76,
   "id": "92016a50-9cf7-4384-9b22-6a2c40d3779c",
   "metadata": {},
   "outputs": [
    {
     "data": {
      "text/plain": [
       "np.float64(88.0)"
      ]
     },
     "execution_count": 76,
     "metadata": {},
     "output_type": "execute_result"
    }
   ],
   "source": [
    "np.median(ar11)"
   ]
  },
  {
   "cell_type": "code",
   "execution_count": 77,
   "id": "388e3702-bb74-46e4-bb6e-38a9e0fcc472",
   "metadata": {},
   "outputs": [
    {
     "data": {
      "text/plain": [
       "np.int64(76)"
      ]
     },
     "execution_count": 77,
     "metadata": {},
     "output_type": "execute_result"
    }
   ],
   "source": [
    "np.min(ar11)"
   ]
  },
  {
   "cell_type": "code",
   "execution_count": 78,
   "id": "0b7246b9-762e-4f15-8b0b-6b07a18dac61",
   "metadata": {},
   "outputs": [
    {
     "data": {
      "text/plain": [
       "np.int64(95)"
      ]
     },
     "execution_count": 78,
     "metadata": {},
     "output_type": "execute_result"
    }
   ],
   "source": [
    "np.max(ar11)"
   ]
  },
  {
   "cell_type": "code",
   "execution_count": 79,
   "id": "38100720-5440-4d42-afa3-2b87c1348be7",
   "metadata": {},
   "outputs": [
    {
     "data": {
      "text/plain": [
       "array([[85, 90, 78, 92, 88, 95, 76, 95, 85],\n",
       "       [76, 95, 85, 90, 85, 92, 88, 76, 89]])"
      ]
     },
     "execution_count": 79,
     "metadata": {},
     "output_type": "execute_result"
    }
   ],
   "source": [
    "ar11=ar11.reshape(2,9)\n",
    "ar11"
   ]
  },
  {
   "cell_type": "code",
   "execution_count": 80,
   "id": "55dedd96-efc3-4b59-bb96-06554760ae53",
   "metadata": {},
   "outputs": [],
   "source": [
    "ar11 = np.array([[85, 90, 78],\n",
    "       [92, 88, 95],\n",
    "       [76, 95, 85],\n",
    "       [76, 95, 85],\n",
    "       [90, 85, 92],\n",
    "       [88, 76, 89]])"
   ]
  },
  {
   "cell_type": "code",
   "execution_count": 82,
   "id": "546315ea-d098-4d36-9364-317529bdb5c2",
   "metadata": {},
   "outputs": [
    {
     "data": {
      "text/plain": [
       "array([[78, 85, 90],\n",
       "       [88, 92, 95],\n",
       "       [76, 85, 95],\n",
       "       [76, 85, 95],\n",
       "       [85, 90, 92],\n",
       "       [76, 88, 89]])"
      ]
     },
     "execution_count": 82,
     "metadata": {},
     "output_type": "execute_result"
    }
   ],
   "source": [
    "ar11.sort()\n",
    "ar11"
   ]
  },
  {
   "cell_type": "code",
   "execution_count": 83,
   "id": "b4f117c0-81c7-40c5-a6bd-a9bcb975d30c",
   "metadata": {},
   "outputs": [
    {
     "data": {
      "text/plain": [
       "array([ 0.84147098,  0.90929743,  0.14112001, -0.7568025 , -0.95892427,\n",
       "       -0.2794155 ,  0.6569866 ,  0.98935825,  0.41211849])"
      ]
     },
     "execution_count": 83,
     "metadata": {},
     "output_type": "execute_result"
    }
   ],
   "source": [
    "np.sin(ar10)"
   ]
  },
  {
   "cell_type": "code",
   "execution_count": 84,
   "id": "cbbe2575-8b81-488a-ab9b-d5faec450a23",
   "metadata": {},
   "outputs": [
    {
     "data": {
      "text/plain": [
       "array([0.        , 0.69314718, 1.09861229, 1.38629436, 1.60943791,\n",
       "       1.79175947, 1.94591015, 2.07944154, 2.19722458])"
      ]
     },
     "execution_count": 84,
     "metadata": {},
     "output_type": "execute_result"
    }
   ],
   "source": [
    "np.log(ar10)"
   ]
  },
  {
   "cell_type": "code",
   "execution_count": null,
   "id": "0e514090-a7c4-4f45-a734-64e30a465cf4",
   "metadata": {},
   "outputs": [],
   "source": []
  }
 ],
 "metadata": {
  "kernelspec": {
   "display_name": "Python 3 (ipykernel)",
   "language": "python",
   "name": "python3"
  },
  "language_info": {
   "codemirror_mode": {
    "name": "ipython",
    "version": 3
   },
   "file_extension": ".py",
   "mimetype": "text/x-python",
   "name": "python",
   "nbconvert_exporter": "python",
   "pygments_lexer": "ipython3",
   "version": "3.12.4"
  }
 },
 "nbformat": 4,
 "nbformat_minor": 5
}
